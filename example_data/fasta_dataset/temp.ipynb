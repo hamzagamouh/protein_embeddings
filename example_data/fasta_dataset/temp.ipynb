{
 "cells": [
  {
   "cell_type": "code",
   "execution_count": null,
   "metadata": {},
   "outputs": [],
   "source": [
    "from Bio import SeqIO\n",
    "fasta = SeqIO.parse('example_fasta.fa', \"fasta\")\n",
    "for seq_record in fasta: \n",
    "    print(seq_record.seq)   \n"
   ]
  }
 ],
 "metadata": {
  "language_info": {
   "name": "python"
  }
 },
 "nbformat": 4,
 "nbformat_minor": 2
}
